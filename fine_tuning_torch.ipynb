{
 "cells": [
  {
   "cell_type": "code",
   "execution_count": 2,
   "metadata": {},
   "outputs": [
    {
     "data": {
      "text/plain": "'d:\\\\HuggingFace'"
     },
     "execution_count": 2,
     "metadata": {},
     "output_type": "execute_result"
    }
   ],
   "source": [
    "import os\r\n",
    "os.getcwd()"
   ]
  },
  {
   "cell_type": "code",
   "execution_count": 3,
   "metadata": {},
   "outputs": [],
   "source": [
    "#os.environ['TRANSFORMERS_CACHE'] = 'd:\\\\HuggingFace\\\\cache\\\\'\r\n",
    "os.environ['TRANSFORMERS_CACHE'] = 'd:/HuggingFace/cache/huggingface/transformers/'\r\n",
    "os.environ['HF_HOME'] = 'd:/HuggingFace/cache/huggingface/transformers/'"
   ]
  },
  {
   "cell_type": "code",
   "execution_count": 4,
   "metadata": {},
   "outputs": [
    {
     "data": {
      "text/plain": "'d:/HuggingFace/cache/huggingface/transformers/'"
     },
     "execution_count": 4,
     "metadata": {},
     "output_type": "execute_result"
    }
   ],
   "source": [
    "os.environ['TRANSFORMERS_CACHE']"
   ]
  },
  {
   "cell_type": "code",
   "execution_count": 11,
   "metadata": {},
   "outputs": [
    {
     "name": "stderr",
     "output_type": "stream",
     "text": [
      "Reusing dataset glue (d:\\HuggingFace\\cache\\huggingface\\transformers\\datasets\\glue\\mrpc\\1.0.0\\dacbe3125aa31d7f70367a07a8a9e72a5a0bfeb5fc42e75c9db75b96da6053ad)\n",
      "100%|██████████| 3/3 [00:00<00:00, 596.32it/s]\n",
      "100%|██████████| 4/4 [00:00<00:00,  7.47ba/s]\n",
      "100%|██████████| 1/1 [00:00<00:00, 26.29ba/s]\n",
      "100%|██████████| 2/2 [00:00<00:00, 12.20ba/s]\n",
      "Reusing dataset glue (d:\\HuggingFace\\cache\\huggingface\\transformers\\datasets\\glue\\mrpc\\1.0.0\\dacbe3125aa31d7f70367a07a8a9e72a5a0bfeb5fc42e75c9db75b96da6053ad)\n",
      "100%|██████████| 3/3 [00:00<00:00, 428.49it/s]\n",
      "Loading cached processed dataset at d:\\HuggingFace\\cache\\huggingface\\transformers\\datasets\\glue\\mrpc\\1.0.0\\dacbe3125aa31d7f70367a07a8a9e72a5a0bfeb5fc42e75c9db75b96da6053ad\\cache-e97c6871abd04d21.arrow\n",
      "100%|██████████| 1/1 [00:00<00:00, 22.50ba/s]\n",
      "Loading cached processed dataset at d:\\HuggingFace\\cache\\huggingface\\transformers\\datasets\\glue\\mrpc\\1.0.0\\dacbe3125aa31d7f70367a07a8a9e72a5a0bfeb5fc42e75c9db75b96da6053ad\\cache-5204c28cd0b57b78.arrow\n"
     ]
    }
   ],
   "source": [
    "from datasets import load_dataset\r\n",
    "from transformers import AutoTokenizer, DataCollatorWithPadding\r\n",
    "\r\n",
    "raw_datasets = load_dataset(\"glue\", \"mrpc\")\r\n",
    "checkpoint = \"bert-base-uncased\"\r\n",
    "tokenizer = AutoTokenizer.from_pretrained(checkpoint)\r\n",
    "\r\n",
    "\r\n",
    "def tokenize_function(example):\r\n",
    "    return tokenizer(example[\"sentence1\"], example[\"sentence2\"], truncation=True)\r\n",
    "\r\n",
    "\r\n",
    "tokenized_datasets = raw_datasets.map(tokenize_function, batched=True)\r\n",
    "data_collator = DataCollatorWithPadding(tokenizer=tokenizer)"
   ]
  },
  {
   "cell_type": "code",
   "execution_count": 12,
   "metadata": {},
   "outputs": [
    {
     "data": {
      "text/plain": "['labels', 'input_ids', 'token_type_ids', 'attention_mask']"
     },
     "execution_count": 12,
     "metadata": {},
     "output_type": "execute_result"
    }
   ],
   "source": [
    "tokenized_datasets = tokenized_datasets.remove_columns([\"sentence1\", \"sentence2\", \"idx\"])\r\n",
    "tokenized_datasets = tokenized_datasets.rename_column(\"label\", \"labels\")\r\n",
    "tokenized_datasets.set_format(\"torch\")\r\n",
    "tokenized_datasets[\"train\"].column_names"
   ]
  },
  {
   "cell_type": "code",
   "execution_count": 13,
   "metadata": {},
   "outputs": [],
   "source": [
    "from torch.utils.data import DataLoader\r\n",
    "\r\n",
    "train_dataloader = DataLoader(\r\n",
    "    tokenized_datasets[\"train\"], shuffle=True, batch_size=8, collate_fn=data_collator\r\n",
    ")\r\n",
    "eval_dataloader = DataLoader(\r\n",
    "    tokenized_datasets[\"validation\"], batch_size=8, collate_fn=data_collator\r\n",
    ")"
   ]
  },
  {
   "cell_type": "code",
   "execution_count": 14,
   "metadata": {},
   "outputs": [
    {
     "data": {
      "text/plain": "{'labels': torch.Size([8]),\n 'input_ids': torch.Size([8, 65]),\n 'token_type_ids': torch.Size([8, 65]),\n 'attention_mask': torch.Size([8, 65])}"
     },
     "execution_count": 14,
     "metadata": {},
     "output_type": "execute_result"
    }
   ],
   "source": [
    "for batch in train_dataloader:\r\n",
    "    break\r\n",
    "{k: v.shape for k, v in batch.items()}"
   ]
  },
  {
   "cell_type": "code",
   "execution_count": 15,
   "metadata": {},
   "outputs": [
    {
     "name": "stderr",
     "output_type": "stream",
     "text": [
      "Downloading: 100%|██████████| 420M/420M [08:23<00:00, 875kB/s] \n",
      "Some weights of the model checkpoint at bert-base-uncased were not used when initializing BertForSequenceClassification: ['cls.predictions.transform.dense.weight', 'cls.seq_relationship.weight', 'cls.predictions.decoder.weight', 'cls.predictions.bias', 'cls.seq_relationship.bias', 'cls.predictions.transform.LayerNorm.bias', 'cls.predictions.transform.LayerNorm.weight', 'cls.predictions.transform.dense.bias']\n",
      "- This IS expected if you are initializing BertForSequenceClassification from the checkpoint of a model trained on another task or with another architecture (e.g. initializing a BertForSequenceClassification model from a BertForPreTraining model).\n",
      "- This IS NOT expected if you are initializing BertForSequenceClassification from the checkpoint of a model that you expect to be exactly identical (initializing a BertForSequenceClassification model from a BertForSequenceClassification model).\n",
      "Some weights of BertForSequenceClassification were not initialized from the model checkpoint at bert-base-uncased and are newly initialized: ['classifier.bias', 'classifier.weight']\n",
      "You should probably TRAIN this model on a down-stream task to be able to use it for predictions and inference.\n"
     ]
    }
   ],
   "source": [
    "from transformers import AutoModelForSequenceClassification\r\n",
    "\r\n",
    "model = AutoModelForSequenceClassification.from_pretrained(checkpoint, num_labels=2)"
   ]
  },
  {
   "cell_type": "code",
   "execution_count": 16,
   "metadata": {},
   "outputs": [
    {
     "name": "stdout",
     "output_type": "stream",
     "text": [
      "tensor(0.7379, grad_fn=<NllLossBackward0>) torch.Size([8, 2])\n"
     ]
    }
   ],
   "source": [
    "outputs = model(**batch)\r\n",
    "print(outputs.loss, outputs.logits.shape)"
   ]
  },
  {
   "cell_type": "code",
   "execution_count": 17,
   "metadata": {},
   "outputs": [
    {
     "name": "stderr",
     "output_type": "stream",
     "text": [
      "D:\\Udemy\\venv\\lib\\site-packages\\transformers\\optimization.py:306: FutureWarning: This implementation of AdamW is deprecated and will be removed in a future version. Use the PyTorch implementation torch.optim.AdamW instead, or set `no_deprecation_warning=True` to disable this warning\n",
      "  warnings.warn(\n"
     ]
    }
   ],
   "source": [
    "from transformers import AdamW\r\n",
    "\r\n",
    "optimizer = AdamW(model.parameters(), lr=5e-5)"
   ]
  },
  {
   "cell_type": "code",
   "execution_count": 18,
   "metadata": {},
   "outputs": [],
   "source": [
    "from transformers import get_scheduler"
   ]
  },
  {
   "cell_type": "code",
   "execution_count": 19,
   "metadata": {},
   "outputs": [
    {
     "name": "stdout",
     "output_type": "stream",
     "text": [
      "1377\n"
     ]
    }
   ],
   "source": [
    "num_epochs = 3\r\n",
    "num_training_steps = num_epochs * len(train_dataloader)\r\n",
    "lr_scheduler = get_scheduler(\r\n",
    "    \"linear\",\r\n",
    "    optimizer=optimizer,\r\n",
    "    num_warmup_steps=0,\r\n",
    "    num_training_steps=num_training_steps\r\n",
    ")\r\n",
    "\r\n",
    "print(num_training_steps)"
   ]
  },
  {
   "cell_type": "code",
   "execution_count": 20,
   "metadata": {},
   "outputs": [
    {
     "data": {
      "text/plain": "device(type='cuda')"
     },
     "execution_count": 20,
     "metadata": {},
     "output_type": "execute_result"
    }
   ],
   "source": [
    "import torch\r\n",
    "\r\n",
    "device = torch.device(\"cuda\") if torch.cuda.is_available() else torch.device(\"cpu\")\r\n",
    "model.to(device)\r\n",
    "device"
   ]
  },
  {
   "cell_type": "code",
   "execution_count": 21,
   "metadata": {},
   "outputs": [
    {
     "name": "stderr",
     "output_type": "stream",
     "text": [
      "100%|██████████| 1377/1377 [05:00<00:00,  4.65it/s]"
     ]
    }
   ],
   "source": [
    "from tqdm.auto import tqdm\r\n",
    "\r\n",
    "progress_bar = tqdm(range(num_training_steps))\r\n",
    "\r\n",
    "model.train()\r\n",
    "for epoch in range(num_epochs):\r\n",
    "    for batch in train_dataloader:\r\n",
    "        batch = {k:v.to(device) for k,v in batch.items()}\r\n",
    "        outputs = model(**batch)\r\n",
    "        loss = outputs.loss\r\n",
    "        loss.backward()\r\n",
    "\r\n",
    "        optimizer.step()\r\n",
    "        lr_scheduler.step()\r\n",
    "        optimizer.zero_grad()\r\n",
    "        progress_bar.update(1)"
   ]
  },
  {
   "cell_type": "code",
   "execution_count": 22,
   "metadata": {},
   "outputs": [],
   "source": [
    "from datasets import load_metric"
   ]
  },
  {
   "cell_type": "code",
   "execution_count": 24,
   "metadata": {},
   "outputs": [
    {
     "data": {
      "text/plain": "{'accuracy': 0.8529411764705882, 'f1': 0.8989898989898989}"
     },
     "execution_count": 24,
     "metadata": {},
     "output_type": "execute_result"
    }
   ],
   "source": [
    "metric = load_metric(\"glue\",\"mrpc\")\r\n",
    "model.eval()\r\n",
    "\r\n",
    "for batch in eval_dataloader:\r\n",
    "    batch = {k: v.to(device) for k,v in batch.items()}\r\n",
    "    with torch.no_grad():\r\n",
    "        outputs = model(**batch)\r\n",
    "\r\n",
    "    logits = outputs.logits\r\n",
    "    predictions = torch.argmax(logits,dim=-1)\r\n",
    "    metric.add_batch(predictions=predictions,references=batch[\"labels\"])\r\n",
    "\r\n",
    "metric.compute()"
   ]
  },
  {
   "cell_type": "markdown",
   "metadata": {},
   "source": [
    "## Using Accelarator - Useful for Multiple GPUs"
   ]
  },
  {
   "cell_type": "code",
   "execution_count": null,
   "metadata": {},
   "outputs": [],
   "source": [
    "from accelerate import Accelerator\r\n",
    "from transformers import AdamW, AutoModelForSequenceClassification, get_scheduler\r\n",
    "\r\n",
    "accelerator = Accelerator()\r\n",
    "\r\n",
    "model = AutoModelForSequenceClassification.from_pretrained(checkpoint, num_labels=2)\r\n",
    "optimizer = AdamW(model.parameters(), lr=3e-5)\r\n",
    "\r\n",
    "#device = torch.device(\"cuda\") if torch.cuda.is_available() else torch.device(\"cpu\")\r\n",
    "#model.to(device)\r\n",
    "\r\n",
    "train_dataloader, eval_dataloader, model, optimizer = accelerator.prepare(train_dataloader, eval_dataloader, model, optimizer)\r\n",
    "\r\n",
    "num_epochs = 3\r\n",
    "num_training_steps = num_epochs * len(train_dataloader)\r\n",
    "lr_scheduler = get_scheduler(\r\n",
    "    \"linear\",\r\n",
    "    optimizer=optimizer,\r\n",
    "    num_warmup_steps=0,\r\n",
    "    num_training_steps=num_training_steps\r\n",
    ")\r\n",
    "\r\n",
    "progress_bar = tqdm(range(num_training_steps))\r\n",
    "\r\n",
    "model.train()\r\n",
    "for epoch in range(num_epochs):\r\n",
    "    for batch in train_dataloader:\r\n",
    "      #batch = {k: v.to(device) for k, v in batch.items()}\r\n",
    "      outputs = model(**batch)\r\n",
    "      loss = outputs.loss\r\n",
    "      #loss.backward()\r\n",
    "      accelerator.backward(loss)\r\n",
    "\r\n",
    "      optimizer.step()\r\n",
    "      lr_scheduler.step()\r\n",
    "      optimizer.zero_grad()\r\n",
    "      progress_bar.update(1)"
   ]
  },
  {
   "cell_type": "markdown",
   "metadata": {},
   "source": [
    "### In order to benefit from the speed-up offered by Cloud TPUs, we should do padding your samples to a fixed length with the \r\n",
    "### `padding=\"max_length\"` and `max_length` arguments of the tokenizer."
   ]
  },
  {
   "cell_type": "code",
   "execution_count": null,
   "metadata": {},
   "outputs": [],
   "source": []
  }
 ],
 "metadata": {
  "kernelspec": {
   "display_name": "Python 3.9.3 64-bit",
   "name": "udemy"
  },
  "language_info": {
   "codemirror_mode": {
    "name": "ipython",
    "version": 3
   },
   "file_extension": ".py",
   "mimetype": "text/x-python",
   "name": "python",
   "nbconvert_exporter": "python",
   "pygments_lexer": "ipython3",
   "version": "3.9.3"
  },
  "orig_nbformat": 3
 },
 "nbformat": 4,
 "nbformat_minor": 2
}